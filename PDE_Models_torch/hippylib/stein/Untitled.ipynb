{
 "cells": [
  {
   "cell_type": "code",
   "execution_count": null,
   "metadata": {},
   "outputs": [],
   "source": [
    "from WGD_utils import *\n",
    "import time"
   ]
  },
  {
   "cell_type": "code",
   "execution_count": 2,
   "metadata": {},
   "outputs": [],
   "source": [
    "N, d = 100, 50\n",
    "X = np.random.randn(N,d)"
   ]
  },
  {
   "cell_type": "code",
   "execution_count": 3,
   "metadata": {},
   "outputs": [
    {
     "name": "stdout",
     "output_type": "stream",
     "text": [
      "0.29212399999999983\n"
     ]
    }
   ],
   "source": [
    "tic = time.process_time()\n",
    "K0 = kernel_mat_group(X,1,400)\n",
    "toc = time.process_time()\n",
    "print(toc-tic)"
   ]
  },
  {
   "cell_type": "code",
   "execution_count": 13,
   "metadata": {},
   "outputs": [
    {
     "name": "stdout",
     "output_type": "stream",
     "text": [
      "0.011805999999999983\n"
     ]
    }
   ],
   "source": [
    "tic = time.process_time()\n",
    "K0_ = kernel_mat_uni(X,1,400)\n",
    "toc = time.process_time()\n",
    "print(toc-tic)"
   ]
  },
  {
   "cell_type": "code",
   "execution_count": 14,
   "metadata": {},
   "outputs": [
    {
     "data": {
      "text/plain": [
       "array([[ 5.74086929, -0.33427597,  4.61709555, ..., -2.80949674,\n",
       "        -5.58503584, -3.0029665 ],\n",
       "       [-3.75802236,  1.82509093, -3.1686235 , ...,  1.86914622,\n",
       "         4.94175379, -5.70621994],\n",
       "       [ 2.43006568,  5.60360148, -3.77941182, ..., -0.42541912,\n",
       "        -2.98011076,  0.06355059],\n",
       "       ...,\n",
       "       [-3.0667301 , -3.44386065,  8.11427884, ..., -1.49694166,\n",
       "         0.67077312, -2.55028214],\n",
       "       [ 0.89433982, -1.5111617 ,  2.20422048, ...,  1.40900246,\n",
       "         1.30087993, -0.07631995],\n",
       "       [ 1.79053388, -7.07987031, -1.91842481, ...,  2.05464799,\n",
       "        -4.14165673,  2.91470538]])"
      ]
     },
     "execution_count": 14,
     "metadata": {},
     "output_type": "execute_result"
    }
   ],
   "source": [
    "dlog_rho_kernel(X,lbd=1e-2)"
   ]
  },
  {
   "cell_type": "code",
   "execution_count": null,
   "metadata": {},
   "outputs": [],
   "source": []
  },
  {
   "cell_type": "code",
   "execution_count": null,
   "metadata": {},
   "outputs": [],
   "source": []
  }
 ],
 "metadata": {
  "kernelspec": {
   "display_name": "Python 3",
   "language": "python",
   "name": "python3"
  },
  "language_info": {
   "codemirror_mode": {
    "name": "ipython",
    "version": 3
   },
   "file_extension": ".py",
   "mimetype": "text/x-python",
   "name": "python",
   "nbconvert_exporter": "python",
   "pygments_lexer": "ipython3",
   "version": "3.7.3"
  }
 },
 "nbformat": 4,
 "nbformat_minor": 2
}
